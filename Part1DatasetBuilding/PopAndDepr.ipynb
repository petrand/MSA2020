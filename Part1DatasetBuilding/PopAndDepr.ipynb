{
  "cells": [
    {
      "metadata": {
        "trusted": true
      },
      "cell_type": "code",
      "source": "import json\nimport sys \nsys.path.append(\"/home/nbuser/library\")\nimport time\nimport pandas as pd\nimport requests ",
      "execution_count": 12,
      "outputs": []
    },
    {
      "metadata": {
        "trusted": true
      },
      "cell_type": "code",
      "source": "'''Defining function to get population from koordinates API'''\ndef get_population(lat, lgt):\n    url = 'https://koordinates.com/services/query/v1/vector.json'\n    api_key = 'd4bb782366fb4727bbcb8d61d4524269'\n    layer_id = 104612\n    params = {\n        'key' : api_key,\n        'layer' : layer_id,\n        'y' : lat,\n        'x' : lgt,\n        'format' : 'json'\n    }\n    time.sleep(0.1)\n    response = requests.get(url, params=params)\n    if response.status_code != 200:\n        return pd.Series({'Population' : None})\n    \n    population = response.json()['vectorQuery']['layers']['104612']['features'][0]['properties']['C18_CNPop']\n    return pd.Series({'Population' : population})",
      "execution_count": 13,
      "outputs": []
    },
    {
      "metadata": {
        "trusted": true
      },
      "cell_type": "code",
      "source": "df = pd.read_csv(\"property.csv\")",
      "execution_count": 14,
      "outputs": []
    },
    {
      "metadata": {},
      "cell_type": "markdown",
      "source": "## Adding population column"
    },
    {
      "metadata": {
        "trusted": true
      },
      "cell_type": "code",
      "source": "df['Population'] = df.apply(lambda row: get_population(row['Latitude'], row['Longitude']), axis=1)\ndf.head()",
      "execution_count": 15,
      "outputs": [
        {
          "output_type": "execute_result",
          "execution_count": 15,
          "data": {
            "text/html": "<div>\n<style scoped>\n    .dataframe tbody tr th:only-of-type {\n        vertical-align: middle;\n    }\n\n    .dataframe tbody tr th {\n        vertical-align: top;\n    }\n\n    .dataframe thead th {\n        text-align: right;\n    }\n</style>\n<table border=\"1\" class=\"dataframe\">\n  <thead>\n    <tr style=\"text-align: right;\">\n      <th></th>\n      <th>Bedrooms</th>\n      <th>Bathrooms</th>\n      <th>Address</th>\n      <th>Land area</th>\n      <th>CV</th>\n      <th>Latitude</th>\n      <th>Longitude</th>\n      <th>SA1</th>\n      <th>0-19 years</th>\n      <th>20-29 years</th>\n      <th>30-39 years</th>\n      <th>40-49 years</th>\n      <th>50-59 years</th>\n      <th>60+ years</th>\n      <th>Suburbs</th>\n      <th>Population</th>\n    </tr>\n  </thead>\n  <tbody>\n    <tr>\n      <th>0</th>\n      <td>5</td>\n      <td>3.0</td>\n      <td>106 Lawrence Crescent Hill Park, Auckland</td>\n      <td>714</td>\n      <td>960000</td>\n      <td>-37.012920</td>\n      <td>174.904069</td>\n      <td>7009770</td>\n      <td>48</td>\n      <td>27</td>\n      <td>24</td>\n      <td>21</td>\n      <td>24</td>\n      <td>21</td>\n      <td>Manurewa</td>\n      <td>177</td>\n    </tr>\n    <tr>\n      <th>1</th>\n      <td>5</td>\n      <td>3.0</td>\n      <td>8 Corsica Way Karaka, Auckland</td>\n      <td>564</td>\n      <td>1250000</td>\n      <td>-37.063672</td>\n      <td>174.922912</td>\n      <td>7009991</td>\n      <td>42</td>\n      <td>18</td>\n      <td>12</td>\n      <td>21</td>\n      <td>15</td>\n      <td>30</td>\n      <td>Karaka</td>\n      <td>123</td>\n    </tr>\n    <tr>\n      <th>2</th>\n      <td>6</td>\n      <td>4.0</td>\n      <td>243 Harbourside Drive Karaka, Auckland</td>\n      <td>626</td>\n      <td>1250000</td>\n      <td>-37.063580</td>\n      <td>174.924044</td>\n      <td>7009991</td>\n      <td>42</td>\n      <td>18</td>\n      <td>12</td>\n      <td>21</td>\n      <td>15</td>\n      <td>30</td>\n      <td>Karaka</td>\n      <td>123</td>\n    </tr>\n    <tr>\n      <th>3</th>\n      <td>2</td>\n      <td>1.0</td>\n      <td>2/30 Hardington Street Onehunga, Auckland</td>\n      <td>65</td>\n      <td>740000</td>\n      <td>-36.912996</td>\n      <td>174.787425</td>\n      <td>7007871</td>\n      <td>42</td>\n      <td>6</td>\n      <td>21</td>\n      <td>21</td>\n      <td>12</td>\n      <td>15</td>\n      <td>Onehunga</td>\n      <td>120</td>\n    </tr>\n    <tr>\n      <th>4</th>\n      <td>3</td>\n      <td>1.0</td>\n      <td>59 Israel Avenue Clover Park, Auckland</td>\n      <td>601</td>\n      <td>630000</td>\n      <td>-36.979037</td>\n      <td>174.892612</td>\n      <td>7008902</td>\n      <td>93</td>\n      <td>27</td>\n      <td>33</td>\n      <td>30</td>\n      <td>21</td>\n      <td>33</td>\n      <td>Clover Park</td>\n      <td>228</td>\n    </tr>\n  </tbody>\n</table>\n</div>",
            "text/plain": "   Bedrooms  Bathrooms                                    Address Land area  \\\n0         5        3.0  106 Lawrence Crescent Hill Park, Auckland       714   \n1         5        3.0             8 Corsica Way Karaka, Auckland       564   \n2         6        4.0     243 Harbourside Drive Karaka, Auckland       626   \n3         2        1.0  2/30 Hardington Street Onehunga, Auckland        65   \n4         3        1.0     59 Israel Avenue Clover Park, Auckland       601   \n\n        CV   Latitude   Longitude      SA1  0-19 years  20-29 years  \\\n0   960000 -37.012920  174.904069  7009770          48           27   \n1  1250000 -37.063672  174.922912  7009991          42           18   \n2  1250000 -37.063580  174.924044  7009991          42           18   \n3   740000 -36.912996  174.787425  7007871          42            6   \n4   630000 -36.979037  174.892612  7008902          93           27   \n\n   30-39 years  40-49 years  50-59 years  60+ years      Suburbs  Population  \n0           24           21           24         21     Manurewa         177  \n1           12           21           15         30       Karaka         123  \n2           12           21           15         30       Karaka         123  \n3           21           21           12         15     Onehunga         120  \n4           33           30           21         33  Clover Park         228  "
          },
          "metadata": {}
        }
      ]
    },
    {
      "metadata": {},
      "cell_type": "markdown",
      "source": "## Adding Deprivation Index"
    },
    {
      "metadata": {
        "trusted": true
      },
      "cell_type": "code",
      "source": "otago_df = pd.read_excel(\"otago730395.xlsx\")\notago_df.head()",
      "execution_count": 16,
      "outputs": [
        {
          "output_type": "execute_result",
          "execution_count": 16,
          "data": {
            "text/html": "<div>\n<style scoped>\n    .dataframe tbody tr th:only-of-type {\n        vertical-align: middle;\n    }\n\n    .dataframe tbody tr th {\n        vertical-align: top;\n    }\n\n    .dataframe thead th {\n        text-align: right;\n    }\n</style>\n<table border=\"1\" class=\"dataframe\">\n  <thead>\n    <tr style=\"text-align: right;\">\n      <th></th>\n      <th>SA12018_code</th>\n      <th>NZDep2018</th>\n      <th>NZDep2018_Score</th>\n      <th>URPopnSA1_2018</th>\n      <th>SA22018_code</th>\n      <th>SA22018_name</th>\n    </tr>\n  </thead>\n  <tbody>\n    <tr>\n      <th>0</th>\n      <td>7000000</td>\n      <td>10.0</td>\n      <td>1245.0</td>\n      <td>141</td>\n      <td>100100</td>\n      <td>North Cape</td>\n    </tr>\n    <tr>\n      <th>1</th>\n      <td>7000001</td>\n      <td>10.0</td>\n      <td>1245.0</td>\n      <td>114</td>\n      <td>100100</td>\n      <td>North Cape</td>\n    </tr>\n    <tr>\n      <th>2</th>\n      <td>7000002</td>\n      <td>NaN</td>\n      <td>NaN</td>\n      <td>0</td>\n      <td>100300</td>\n      <td>Inlets Far North District</td>\n    </tr>\n    <tr>\n      <th>3</th>\n      <td>7000003</td>\n      <td>10.0</td>\n      <td>1207.0</td>\n      <td>225</td>\n      <td>100100</td>\n      <td>North Cape</td>\n    </tr>\n    <tr>\n      <th>4</th>\n      <td>7000004</td>\n      <td>9.0</td>\n      <td>1093.0</td>\n      <td>138</td>\n      <td>100100</td>\n      <td>North Cape</td>\n    </tr>\n  </tbody>\n</table>\n</div>",
            "text/plain": "   SA12018_code  NZDep2018  NZDep2018_Score  URPopnSA1_2018  SA22018_code  \\\n0       7000000       10.0           1245.0             141        100100   \n1       7000001       10.0           1245.0             114        100100   \n2       7000002        NaN              NaN               0        100300   \n3       7000003       10.0           1207.0             225        100100   \n4       7000004        9.0           1093.0             138        100100   \n\n                SA22018_name  \n0                 North Cape  \n1                 North Cape  \n2  Inlets Far North District  \n3                 North Cape  \n4                 North Cape  "
          },
          "metadata": {}
        }
      ]
    },
    {
      "metadata": {
        "trusted": true,
        "scrolled": true
      },
      "cell_type": "code",
      "source": "index = otago_df[['NZDep2018','SA12018_code', 'NZDep2018_Score']]\ndf = df.merge(right=index, left_on='SA1', right_on='SA12018_code')\ndf.head()",
      "execution_count": 17,
      "outputs": [
        {
          "output_type": "execute_result",
          "execution_count": 17,
          "data": {
            "text/html": "<div>\n<style scoped>\n    .dataframe tbody tr th:only-of-type {\n        vertical-align: middle;\n    }\n\n    .dataframe tbody tr th {\n        vertical-align: top;\n    }\n\n    .dataframe thead th {\n        text-align: right;\n    }\n</style>\n<table border=\"1\" class=\"dataframe\">\n  <thead>\n    <tr style=\"text-align: right;\">\n      <th></th>\n      <th>Bedrooms</th>\n      <th>Bathrooms</th>\n      <th>Address</th>\n      <th>Land area</th>\n      <th>CV</th>\n      <th>Latitude</th>\n      <th>Longitude</th>\n      <th>SA1</th>\n      <th>0-19 years</th>\n      <th>20-29 years</th>\n      <th>30-39 years</th>\n      <th>40-49 years</th>\n      <th>50-59 years</th>\n      <th>60+ years</th>\n      <th>Suburbs</th>\n      <th>Population</th>\n      <th>NZDep2018</th>\n      <th>SA12018_code</th>\n      <th>NZDep2018_Score</th>\n    </tr>\n  </thead>\n  <tbody>\n    <tr>\n      <th>0</th>\n      <td>5</td>\n      <td>3.0</td>\n      <td>106 Lawrence Crescent Hill Park, Auckland</td>\n      <td>714</td>\n      <td>960000</td>\n      <td>-37.012920</td>\n      <td>174.904069</td>\n      <td>7009770</td>\n      <td>48</td>\n      <td>27</td>\n      <td>24</td>\n      <td>21</td>\n      <td>24</td>\n      <td>21</td>\n      <td>Manurewa</td>\n      <td>177</td>\n      <td>6.0</td>\n      <td>7009770</td>\n      <td>997.0</td>\n    </tr>\n    <tr>\n      <th>1</th>\n      <td>5</td>\n      <td>3.0</td>\n      <td>8 Corsica Way Karaka, Auckland</td>\n      <td>564</td>\n      <td>1250000</td>\n      <td>-37.063672</td>\n      <td>174.922912</td>\n      <td>7009991</td>\n      <td>42</td>\n      <td>18</td>\n      <td>12</td>\n      <td>21</td>\n      <td>15</td>\n      <td>30</td>\n      <td>Karaka</td>\n      <td>123</td>\n      <td>1.0</td>\n      <td>7009991</td>\n      <td>881.0</td>\n    </tr>\n    <tr>\n      <th>2</th>\n      <td>6</td>\n      <td>4.0</td>\n      <td>243 Harbourside Drive Karaka, Auckland</td>\n      <td>626</td>\n      <td>1250000</td>\n      <td>-37.063580</td>\n      <td>174.924044</td>\n      <td>7009991</td>\n      <td>42</td>\n      <td>18</td>\n      <td>12</td>\n      <td>21</td>\n      <td>15</td>\n      <td>30</td>\n      <td>Karaka</td>\n      <td>123</td>\n      <td>1.0</td>\n      <td>7009991</td>\n      <td>881.0</td>\n    </tr>\n    <tr>\n      <th>3</th>\n      <td>2</td>\n      <td>1.0</td>\n      <td>2/30 Hardington Street Onehunga, Auckland</td>\n      <td>65</td>\n      <td>740000</td>\n      <td>-36.912996</td>\n      <td>174.787425</td>\n      <td>7007871</td>\n      <td>42</td>\n      <td>6</td>\n      <td>21</td>\n      <td>21</td>\n      <td>12</td>\n      <td>15</td>\n      <td>Onehunga</td>\n      <td>120</td>\n      <td>2.0</td>\n      <td>7007871</td>\n      <td>908.0</td>\n    </tr>\n    <tr>\n      <th>4</th>\n      <td>3</td>\n      <td>1.0</td>\n      <td>59 Israel Avenue Clover Park, Auckland</td>\n      <td>601</td>\n      <td>630000</td>\n      <td>-36.979037</td>\n      <td>174.892612</td>\n      <td>7008902</td>\n      <td>93</td>\n      <td>27</td>\n      <td>33</td>\n      <td>30</td>\n      <td>21</td>\n      <td>33</td>\n      <td>Clover Park</td>\n      <td>228</td>\n      <td>9.0</td>\n      <td>7008902</td>\n      <td>1091.0</td>\n    </tr>\n  </tbody>\n</table>\n</div>",
            "text/plain": "   Bedrooms  Bathrooms                                    Address Land area  \\\n0         5        3.0  106 Lawrence Crescent Hill Park, Auckland       714   \n1         5        3.0             8 Corsica Way Karaka, Auckland       564   \n2         6        4.0     243 Harbourside Drive Karaka, Auckland       626   \n3         2        1.0  2/30 Hardington Street Onehunga, Auckland        65   \n4         3        1.0     59 Israel Avenue Clover Park, Auckland       601   \n\n        CV   Latitude   Longitude      SA1  0-19 years  20-29 years  \\\n0   960000 -37.012920  174.904069  7009770          48           27   \n1  1250000 -37.063672  174.922912  7009991          42           18   \n2  1250000 -37.063580  174.924044  7009991          42           18   \n3   740000 -36.912996  174.787425  7007871          42            6   \n4   630000 -36.979037  174.892612  7008902          93           27   \n\n   30-39 years  40-49 years  50-59 years  60+ years      Suburbs  Population  \\\n0           24           21           24         21     Manurewa         177   \n1           12           21           15         30       Karaka         123   \n2           12           21           15         30       Karaka         123   \n3           21           21           12         15     Onehunga         120   \n4           33           30           21         33  Clover Park         228   \n\n   NZDep2018  SA12018_code  NZDep2018_Score  \n0        6.0       7009770            997.0  \n1        1.0       7009991            881.0  \n2        1.0       7009991            881.0  \n3        2.0       7007871            908.0  \n4        9.0       7008902           1091.0  "
          },
          "metadata": {}
        }
      ]
    },
    {
      "metadata": {
        "trusted": true
      },
      "cell_type": "code",
      "source": "df.to_csv('\\property_with_population.csv', index = False)",
      "execution_count": null,
      "outputs": []
    },
    {
      "metadata": {
        "trusted": true
      },
      "cell_type": "code",
      "source": "url = 'https://www.educationcounts.govt.nz/find-school?&address='\nresponse = requests.get(url + '5%20Schopolo%20Place%20Schnapper%20Rock%20Auckland&lat=-36.76021345&lng=174.680169083')\nprint(response)",
      "execution_count": null,
      "outputs": []
    },
    {
      "metadata": {
        "trusted": true
      },
      "cell_type": "code",
      "source": "",
      "execution_count": null,
      "outputs": []
    }
  ],
  "metadata": {
    "kernelspec": {
      "name": "python36",
      "display_name": "Python 3.6",
      "language": "python"
    },
    "language_info": {
      "mimetype": "text/x-python",
      "nbconvert_exporter": "python",
      "name": "python",
      "pygments_lexer": "ipython3",
      "version": "3.6.6",
      "file_extension": ".py",
      "codemirror_mode": {
        "version": 3,
        "name": "ipython"
      }
    }
  },
  "nbformat": 4,
  "nbformat_minor": 2
}
